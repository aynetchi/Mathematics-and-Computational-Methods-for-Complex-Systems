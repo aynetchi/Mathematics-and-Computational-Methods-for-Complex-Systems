{
  "nbformat": 4,
  "nbformat_minor": 0,
  "metadata": {
    "kernelspec": {
      "display_name": "Python 3",
      "language": "python",
      "name": "python3"
    },
    "language_info": {
      "codemirror_mode": {
        "name": "ipython",
        "version": 3
      },
      "file_extension": ".py",
      "mimetype": "text/x-python",
      "name": "python",
      "nbconvert_exporter": "python",
      "pygments_lexer": "ipython3",
      "version": "3.8.5"
    },
    "colab": {
      "name": "Genetic Algorithm (Hand in).ipynb",
      "provenance": []
    }
  },
  "cells": [
    {
      "cell_type": "code",
      "metadata": {
        "id": "_MOvppwsUuRO"
      },
      "source": [
        "import numpy as np \n",
        "import random\n",
        "import time \n",
        "import resource\n",
        "import matplotlib.pyplot as plt "
      ],
      "execution_count": 1,
      "outputs": []
    },
    {
      "cell_type": "markdown",
      "metadata": {
        "id": "yxDv-e9_VuLf"
      },
      "source": [
        "**The Objective Function**"
      ]
    },
    {
      "cell_type": "code",
      "metadata": {
        "id": "cPiRT8zzUuRP"
      },
      "source": [
        "def equation(x, y):\n",
        "    return 4 * (1 - x) ** 2 * np.exp(-(x ** 2) - (y + 1) ** 2) - \\\n",
        "        15 * (x / 5 - x ** 3 - y ** 5) * np.exp(-x ** 2 - y ** 2) - \\\n",
        "        (1./3)*np.exp(-(x+1)**2 - y**2)-1*(2*(x-3)**7 -\n",
        "                                           0.3*(y-4)**5+(y-3)**9)*np.exp(-(x-3)**2-(y-3)**2) "
      ],
      "execution_count": 2,
      "outputs": []
    },
    {
      "cell_type": "markdown",
      "metadata": {
        "id": "GliGBgIxVzjz"
      },
      "source": [
        "**Finding the Partial Derivatives** "
      ]
    },
    {
      "cell_type": "code",
      "metadata": {
        "id": "mKlHdPb5UuRQ"
      },
      "source": [
        "def fitness(x, y):\n",
        "    ans = equation(x, y) \n",
        "    if ans > 12.235:\n",
        "        return 1000\n",
        "    else:\n",
        "        return abs(ans)"
      ],
      "execution_count": 3,
      "outputs": []
    },
    {
      "cell_type": "markdown",
      "metadata": {
        "id": "SH3l_5W3V-pG"
      },
      "source": [
        "**Experiment 1:** Comapring various parameters for GA with uniform and one-point crossover  "
      ]
    },
    {
      "cell_type": "code",
      "metadata": {
        "id": "TWo4t4HWUuRR"
      },
      "source": [
        "# GA with uniform cross over \n",
        "def GA_Uniform(population_size, cross_over, mutation_rate):\n",
        "    # Counts the number of generations in order to reach global maximum \n",
        "    iterations = 0\n",
        "    # Adjust the muations rate \n",
        "    mutation_rate/=2\n",
        "    # Generate Solutions \n",
        "    solutions = [(0,0)]   \n",
        "    for s in range(population_size):\n",
        "        # Add tupples to list with random values from 0 to 10,000\n",
        "        solutions.append((random.uniform(-3,7), \n",
        "                          random.uniform(-3,7)))\n",
        "    # Genetic Algorithm \n",
        "    # Rank the solutions \n",
        "    for i in range(1000):\n",
        "        iterations += 1\n",
        "        ranked_solutions = []\n",
        "        for s in solutions:\n",
        "            ranked_solutions.append((fitness(s[0], s[1]), s))\n",
        "\n",
        "        ranked_solutions.sort()\n",
        "        ranked_solutions.reverse()\n",
        "\n",
        "        # Uncomment to view optimal height for each generation \n",
        "        #print(f\"===== Generation {i} best solutions ====\")\n",
        "        #print(ranked_solutions[0])\n",
        "\n",
        "        # Select best solutions for crossover \n",
        "        cross_over *= population_size\n",
        "        cross_over = int(cross_over)\n",
        "        best_solutions = ranked_solutions[0:cross_over]\n",
        "\n",
        "        # Add random solutions to list for mutation \n",
        "        elements = []\n",
        "        for s in best_solutions:\n",
        "            elements.append(s[1][0])\n",
        "            elements.append(s[1][1])\n",
        "\n",
        "\n",
        "        # Create a new generation i.e. mutation\n",
        "        new_gen = []\n",
        "        for _ in range(1000):\n",
        "          # Uniform crossover performed \n",
        "            e1 = random.choice(elements) * random.uniform(1-mutation_rate, 1+mutation_rate)\n",
        "            e2 = random.choice(elements) * random.uniform(1-mutation_rate, 1+mutation_rate)\n",
        "\n",
        "            new_gen.append((e1,e2))\n",
        "\n",
        "        # Break loop if global maxima is reached \n",
        "        if ranked_solutions[0][0] > 500:\n",
        "            break\n",
        "        # Update the new generation \n",
        "        solutions = new_gen\n",
        "\n",
        "    # Calculate the global maximum \n",
        "    _, chromosomes = ranked_solutions[0]\n",
        "    x,y = chromosomes\n",
        "    height = equation(x, y)\n",
        "\n",
        "    return height, iterations"
      ],
      "execution_count": 4,
      "outputs": []
    },
    {
      "cell_type": "code",
      "metadata": {
        "colab": {
          "base_uri": "https://localhost:8080/"
        },
        "id": "U7X-Rzt2UuRT",
        "outputId": "78f38b37-1aad-410a-dce0-80894884a6fb"
      },
      "source": [
        "\"\"\"Results from uniform crossover\"\"\"\n",
        "# lists to hold the heights for different paramerters \n",
        "h20 = []\n",
        "h30 = []\n",
        "h50 = []\n",
        "h80 = []\n",
        "h100 = []\n",
        "# lists to hold the number of generations for different paramerters \n",
        "i20 = []\n",
        "i30 = []\n",
        "i50 = []\n",
        "i80 = []\n",
        "i100 = []\n",
        "\n",
        "# Run algorithm 100 time for better accuracy \n",
        "epochs = 100\n",
        "# Run algorithm and collect data \n",
        "for i in range(epochs):\n",
        "    height, iterations = GA_Uniform(20, 0.9, 0.5)\n",
        "    h20.append(height)\n",
        "    i20.append(iterations)\n",
        "    \n",
        "    height, iterations = GA_Uniform(30, 0.8, 0.45)\n",
        "    h30.append(height)\n",
        "    i30.append(iterations)\n",
        "    \n",
        "    height, iterations = GA_Uniform(50, 0.8, 0.4)\n",
        "    h50.append(height)\n",
        "    i50.append(iterations)\n",
        "    \n",
        "    height, iterations = GA_Uniform(80, 0.6, 0.1)\n",
        "    h80.append(height)\n",
        "    i80.append(iterations)\n",
        "    \n",
        "    height, iterations = GA_Uniform(100, 0.5, 0.1)\n",
        "    h100.append(height)\n",
        "    i100.append(iterations)\n",
        "\n",
        "# Display Results \n",
        "print(\"===== Summary=====\")\n",
        "\n",
        "print(\"Population Size: 20\", \"Crossover Rate: 0.9\", \"Mutation Rate: 0.5\")\n",
        "print(\"Average Height\",sum(h20)/len(h20), \"Average Iterations (generations):\", sum(i20)/len(i20), \"Success Rate:\", (len(i20)-i20.count(1000))/len(i20))\n",
        "print()\n",
        "print(\"Population Size: 30\", \"Crossover Rate: 0.8\", \"Mutation Rate: 0.45\")\n",
        "print(\"Average Height\",sum(h30)/len(h30), \"Average Iterations (generations):\", sum(i30)/len(i30), \"Success Rate:\", (len(i30)-i30.count(1000))/len(i30))\n",
        "print()\n",
        "print(\"Population Size: 50\", \"Crossover Rate: 0.8\", \"Mutation Rate: 0.4\")\n",
        "print(\"Average Height\",sum(h50)/len(h50), \"Average Iterations (generations):\", sum(i50)/len(i50), \"Success Rate:\", (len(i50)-i50.count(1000))/len(i50))\n",
        "print()\n",
        "print(\"Population Size: 80\", \"Crossover Rate: 0.6\", \"Mutation Rate: 0.1\")\n",
        "print(\"Average Height\",sum(h80)/len(h80), \"Average Iterations (generations):\", sum(i80)/len(i80), \"Success Rate:\", (len(i80)-i80.count(1000))/len(i80))\n",
        "print()\n",
        "print(\"Population Size: 100\", \"Crossover Rate: 0.5\", \"Mutation Rate: 0.1\")\n",
        "print(\"Average Height\",sum(h100)/len(h100), \"Average Iterations (generations):\", sum(i100)/len(i100), \"Success Rate:\", (len(i100)-i100.count(1000))/len(i100))"
      ],
      "execution_count": 5,
      "outputs": [
        {
          "output_type": "stream",
          "text": [
            "===== Summary=====\n",
            "Population Size: 20 Crossover Rate: 0.9 Mutation Rate: 0.5\n",
            "Average Height 12.235112858269652 Average Iterations (generations): 17.49 Success Rate: 1.0\n",
            "\n",
            "Population Size: 30 Crossover Rate: 0.8 Mutation Rate: 0.45\n",
            "Average Height 12.235114150965268 Average Iterations (generations): 26.42 Success Rate: 1.0\n",
            "\n",
            "Population Size: 50 Crossover Rate: 0.8 Mutation Rate: 0.4\n",
            "Average Height 11.586188025403844 Average Iterations (generations): 109.14 Success Rate: 0.97\n",
            "\n",
            "Population Size: 80 Crossover Rate: 0.6 Mutation Rate: 0.1\n",
            "Average Height 11.666584844847439 Average Iterations (generations): 344.02 Success Rate: 0.68\n",
            "\n",
            "Population Size: 100 Crossover Rate: 0.5 Mutation Rate: 0.1\n",
            "Average Height 10.866168309306913 Average Iterations (generations): 355.96 Success Rate: 0.67\n"
          ],
          "name": "stdout"
        }
      ]
    },
    {
      "cell_type": "code",
      "metadata": {
        "id": "LMl2e6qCUuRX"
      },
      "source": [
        "# One point crossover \n",
        "def GA_OnePoint(population_size, cross_over, mutation_rate):\n",
        "    iterations = 0\n",
        "    \n",
        "    mutation_rate/=2\n",
        "    # Generate Solutions \n",
        "    solutions = [(0,0)]   \n",
        "    for s in range(population_size):\n",
        "        # Add tupples to list with random values from 0 to 10,000\n",
        "        solutions.append((random.uniform(-3,7), \n",
        "                          random.uniform(-3,7)))\n",
        "    # Genetic Algorithm \n",
        "    # Rank best solutions \n",
        "    for i in range(1000):\n",
        "        iterations += 1\n",
        "        ranked_solutions = []\n",
        "        for s in solutions:\n",
        "            ranked_solutions.append((fitness(s[0], s[1]), s))\n",
        "\n",
        "        ranked_solutions.sort()\n",
        "        ranked_solutions.reverse()\n",
        "\n",
        "        # uncomment to display heights for each generation  \n",
        "        #print(f\"===== Generation {i} best solutions ====\")\n",
        "        #print(ranked_solutions[0])\n",
        "\n",
        "        # Select top  solutions for crossover \n",
        "        cross_over *= population_size\n",
        "        cross_over = int(cross_over)\n",
        "        best_solutions = ranked_solutions[0:cross_over]\n",
        "\n",
        "        # Create a new generation i.e. mutation\n",
        "        elements = []\n",
        "        # Add random solutions to list for mutation \n",
        "        for s in best_solutions:\n",
        "            elements.append([s[1][0], s[1][1]])\n",
        "            \n",
        "\n",
        "\n",
        "        # Create a new generation i.e. mutation\n",
        "        new_gen = []\n",
        "        for _ in range(1000):\n",
        "        # One point crossover performed \n",
        "            e = random.choice(elements)\n",
        "            ee = random.choice(elements)\n",
        "            e1 = e[0] * random.uniform(1-mutation_rate, 1+mutation_rate)\n",
        "            e2 = ee[1] * random.uniform(1-mutation_rate, 1+mutation_rate)\n",
        "            e3 = e[1] * random.uniform(1-mutation_rate, 1+mutation_rate)\n",
        "            e4 = ee[0] * random.uniform(1-mutation_rate, 1+mutation_rate)\n",
        "            new_gen.append((e1,e2))\n",
        "            new_gen.append((e3,e4))\n",
        "        # If global maxima is reached break from the loop \n",
        "        if ranked_solutions[0][0] > 500:\n",
        "            break\n",
        "        # update new generation \n",
        "        solutions = new_gen\n",
        "\n",
        "\n",
        "    # Calculate the gloabl \n",
        "\n",
        "    _, chromosomes = ranked_solutions[0]\n",
        "    x,y = chromosomes\n",
        "    height = equation(x, y)\n",
        "    return height, iterations"
      ],
      "execution_count": 7,
      "outputs": []
    },
    {
      "cell_type": "code",
      "metadata": {
        "colab": {
          "base_uri": "https://localhost:8080/"
        },
        "id": "SoxeksNOUuRY",
        "outputId": "bc84b55a-b980-4ba8-dfa3-9de59e6ba6f1"
      },
      "source": [
        "\"\"\"Results from one point crossover\"\"\"\n",
        "# lists to hold the heights for different paramerters \n",
        "h20 = []\n",
        "h30 = []\n",
        "h50 = []\n",
        "h80 = []\n",
        "h100 = []\n",
        "# lists to hold the number of generations for different paramerters \n",
        "i20 = []\n",
        "i30 = []\n",
        "i50 = []\n",
        "i80 = []\n",
        "i100 = []\n",
        "\n",
        "# Run algorithm 100 time for better accuracy \n",
        "epochs = 100\n",
        "# Run algorithm and collect data \n",
        "for i in range(epochs):\n",
        "    height, iterations = GA_OnePoint(20, 0.9, 0.5)\n",
        "    h20.append(height)\n",
        "    i20.append(iterations)\n",
        "    \n",
        "    height, iterations = GA_OnePoint(30, 0.8, 0.45)\n",
        "    h30.append(height)\n",
        "    i30.append(iterations)\n",
        "    \n",
        "    height, iterations = GA_OnePoint(50, 0.8, 0.4)\n",
        "    h50.append(height)\n",
        "    i50.append(iterations)\n",
        "    \n",
        "    height, iterations = GA_OnePoint(80, 0.6, 0.1)\n",
        "    h80.append(height)\n",
        "    i80.append(iterations)\n",
        "    \n",
        "    height, iterations = GA_OnePoint(100, 0.5, 0.1)\n",
        "    h100.append(height)\n",
        "    i100.append(iterations)\n",
        "\n",
        "# Display Results     \n",
        "print(\"===== Summary=====\")\n",
        "\n",
        "print(\"Population Size: 20\", \"Crossover Rate: 0.9\", \"Mutation Rate: 0.5\")\n",
        "print(\"Average Height\",sum(h20)/len(h20), \"Average Iterations (generations):\", sum(i20)/len(i20), \"Success Rate:\", (len(i20)-i20.count(1000))/len(i20))\n",
        "print()\n",
        "print(\"Population Size: 30\", \"Crossover Rate: 0.8\", \"Mutation Rate: 0.45\")\n",
        "print(\"Average Height\",sum(h30)/len(h30), \"Average Iterations (generations):\", sum(i30)/len(i30), \"Success Rate:\", (len(i30)-i30.count(1000))/len(i30))\n",
        "print()\n",
        "print(\"Population Size: 50\", \"Crossover Rate: 0.8\", \"Mutation Rate: 0.4\")\n",
        "print(\"Average Height\",sum(h50)/len(h50), \"Average Iterations (generations):\", sum(i50)/len(i50), \"Success Rate:\", (len(i50)-i50.count(1000))/len(i50))\n",
        "print()\n",
        "print(\"Population Size: 80\", \"Crossover Rate: 0.6\", \"Mutation Rate: 0.1\")\n",
        "print(\"Average Height\",sum(h80)/len(h80), \"Average Iterations (generations):\", sum(i80)/len(i80), \"Success Rate:\", (len(i80)-i80.count(1000))/len(i80))\n",
        "print()\n",
        "print(\"Population Size: 100\", \"Crossover Rate: 0.5\", \"Mutation Rate: 0.1\")\n",
        "print(\"Average Height\",sum(h100)/len(h100), \"Average Iterations (generations):\", sum(i100)/len(i100), \"Success Rate:\", (len(i100)-i100.count(1000))/len(i100))"
      ],
      "execution_count": 11,
      "outputs": [
        {
          "output_type": "stream",
          "text": [
            "===== Summary=====\n",
            "Population Size: 20 Crossover Rate: 0.9 Mutation Rate: 0.5\n",
            "Average Height 12.235166778316072 Average Iterations (generations): 2.0 Success Rate: 1.0\n",
            "\n",
            "Population Size: 30 Crossover Rate: 0.8 Mutation Rate: 0.45\n",
            "Average Height 12.235136575628275 Average Iterations (generations): 6.0 Success Rate: 1.0\n",
            "\n",
            "Population Size: 50 Crossover Rate: 0.8 Mutation Rate: 0.4\n",
            "Average Height 12.2350827126167 Average Iterations (generations): 16.0 Success Rate: 1.0\n",
            "\n",
            "Population Size: 80 Crossover Rate: 0.6 Mutation Rate: 0.1\n",
            "Average Height 12.235167934141089 Average Iterations (generations): 12.0 Success Rate: 1.0\n",
            "\n",
            "Population Size: 100 Crossover Rate: 0.5 Mutation Rate: 0.1\n",
            "Average Height 12.235070032531311 Average Iterations (generations): 21.0 Success Rate: 1.0\n"
          ],
          "name": "stdout"
        }
      ]
    },
    {
      "cell_type": "markdown",
      "metadata": {
        "id": "4jeJBa_oY-6F"
      },
      "source": [
        "**Experiment 2:** Comparing the compuational performance for one point cross over and unform crossover "
      ]
    },
    {
      "cell_type": "code",
      "metadata": {
        "colab": {
          "base_uri": "https://localhost:8080/"
        },
        "id": "vMMOb3UCUuRa",
        "outputId": "d92ffff6-53c3-4a83-c28c-cf2ccf5ca40b"
      },
      "source": [
        "# list to store the heights and number of generations to reach global maximum \n",
        "h20 = []\n",
        "i20 = []\n",
        "# Total number of times algorithm is ran \n",
        "epochs = 1000  \n",
        "# Calculating start time of computaion \n",
        "time_start = time.perf_counter()\n",
        "\n",
        "# loop and collect data \n",
        "for i in range(epochs):\n",
        "    height, iterations = GA_OnePoint(20, 0.9, 0.5)\n",
        "    h20.append(height)\n",
        "    i20.append(iterations)\n",
        "\n",
        "# Calculate time    \n",
        "time_elapsed = (time.perf_counter() - time_start)\n",
        "memMb=resource.getrusage(resource.RUSAGE_SELF).ru_maxrss/1024.0/1024.0\n",
        "# Display resuts \n",
        "print (\"time\", time_elapsed, memMb, \"MByte\")   \n",
        "print(\"Population Size: 20\", \"Crossover Rate: 0.9\", \"Mutation Rate: 0.5\")\n",
        "print(\"Average Height\",sum(h20)/len(h20), \"Average Iterations (generations):\", sum(i20)/len(i20), \"Success Rate:\", (len(i20)-i20.count(1000))/len(i20))\n",
        "print()"
      ],
      "execution_count": 8,
      "outputs": [
        {
          "output_type": "stream",
          "text": [
            "time 249.9634051390001 0.11417770385742188 MByte\n",
            "Population Size: 20 Crossover Rate: 0.9 Mutation Rate: 0.5\n",
            "Average Height 12.23511454196231 Average Iterations (generations): 10.413 Success Rate: 1.0\n",
            "\n"
          ],
          "name": "stdout"
        }
      ]
    },
    {
      "cell_type": "code",
      "metadata": {
        "colab": {
          "base_uri": "https://localhost:8080/"
        },
        "id": "bn5I47k1UuRb",
        "outputId": "5e58b5ff-422e-4f74-d2ec-c2089d6296ea"
      },
      "source": [
        "# list to store the heights and number of generations to reach global maximum \n",
        "h20 = []\n",
        "i20 = []\n",
        "# Total number of times algorithm is ran \n",
        "epochs = 1000\n",
        "# Calculating start time of computaion \n",
        "time_start = time.perf_counter()\n",
        "\n",
        "# loop and collect data\n",
        "for i in range(epochs):\n",
        "    height, iterations = GA_Uniform(20, 0.9, 0.5)\n",
        "    h20.append(height)\n",
        "    i20.append(iterations)\n",
        "    \n",
        "# Calculate time    \n",
        "time_elapsed = (time.perf_counter() - time_start)\n",
        "memMb=resource.getrusage(resource.RUSAGE_SELF).ru_maxrss/1024.0/1024.0\n",
        "# Display resuts \n",
        "print (\"time\", time_elapsed, memMb, \"MByte\")    \n",
        "print(\"Population Size: 20\", \"Crossover Rate: 0.9\", \"Mutation Rate: 0.5\")\n",
        "print(\"Average Height\",sum(h20)/len(h20), \"Average Iterations (generations):\", sum(i20)/len(i20), \"Success Rate:\", (len(i20)-i20.count(1000))/len(i20))\n",
        "print()"
      ],
      "execution_count": 12,
      "outputs": [
        {
          "output_type": "stream",
          "text": [
            "time 0.06776854800000365 0.11427688598632812 MByte\n",
            "Population Size: 20 Crossover Rate: 0.9 Mutation Rate: 0.5\n",
            "Average Height 12.235089138047512 Average Iterations (generations): 5.0 Success Rate: 1.0\n",
            "\n"
          ],
          "name": "stdout"
        }
      ]
    },
    {
      "cell_type": "markdown",
      "metadata": {
        "id": "cJAIV_CyZ9sn"
      },
      "source": [
        "**Experiment 3:** Plotting Convergance  "
      ]
    },
    {
      "cell_type": "code",
      "metadata": {
        "id": "NH2BjV28UuRb"
      },
      "source": [
        "\"\"\"Returns heights using uniform cross over (check algorithms above for commenting)\"\"\"\n",
        "def GA_Uniform_plot(population_size, cross_over, mutation_rate):\n",
        "    iterations = 0\n",
        "    mutation_rate/=2\n",
        "    heights = []\n",
        "    # Generate Solutions \n",
        "    solutions = [(0,0)]   \n",
        "    for s in range(population_size):\n",
        "        solutions.append((random.uniform(-3,7), \n",
        "                          random.uniform(-3,7)))\n",
        "    # Genetic Algorithm \n",
        "    for i in range(1000):\n",
        "        iterations += 1\n",
        "        ranked_solutions = []\n",
        "        for s in solutions:\n",
        "            ranked_solutions.append((fitness(s[0], s[1]), s))\n",
        "\n",
        "        ranked_solutions.sort()\n",
        "        ranked_solutions.reverse()\n",
        "\n",
        "\n",
        "        #print(f\"===== Generation {i} best solutions ====\")\n",
        "        #print(ranked_solutions[0])\n",
        "\n",
        "        cross_over *= population_size\n",
        "        cross_over = int(cross_over)\n",
        "        best_solutions = ranked_solutions[0:cross_over]\n",
        "\n",
        "        elements = []\n",
        "        for s in best_solutions:\n",
        "            elements.append(s[1][0])\n",
        "            elements.append(s[1][1])\n",
        "\n",
        "        new_gen = []\n",
        "        for _ in range(1000):\n",
        "            e1 = random.choice(elements) * random.uniform(1-mutation_rate, 1+mutation_rate)\n",
        "            e2 = random.choice(elements) * random.uniform(1-mutation_rate, 1+mutation_rate)\n",
        "\n",
        "            new_gen.append((e1,e2))\n",
        "\n",
        "        solutions = new_gen\n",
        "        _, chromosomes = ranked_solutions[0]\n",
        "        x,y = chromosomes\n",
        "        height = equation(x, y)\n",
        "        heights.append(height)\n",
        "        if ranked_solutions[0][0] > 500:\n",
        "            break\n",
        "    \n",
        "    return heights\n",
        "\n",
        "\n",
        "    "
      ],
      "execution_count": 13,
      "outputs": []
    },
    {
      "cell_type": "code",
      "metadata": {
        "id": "IdG45YpFUuRd"
      },
      "source": [
        "\"\"\"Returns heights using one point cross over (check algorithms above for commenting)\"\"\"\n",
        "def GA_OnePoint_plot(population_size, cross_over, mutation_rate):\n",
        "    iterations = 0\n",
        "    heights = []\n",
        "    mutation_rate/=2\n",
        "    # Generate Solutions \n",
        "    solutions = [(0,0)]   \n",
        "    for s in range(population_size):\n",
        "        solutions.append((random.uniform(-3,7), \n",
        "                          random.uniform(-3,7)))\n",
        "    # Genetic Algorithm \n",
        "    for i in range(1000):\n",
        "        iterations += 1\n",
        "        ranked_solutions = []\n",
        "        for s in solutions:\n",
        "            ranked_solutions.append((fitness(s[0], s[1]), s))\n",
        "\n",
        "        ranked_solutions.sort()\n",
        "        ranked_solutions.reverse()\n",
        "\n",
        "        #print(f\"===== Generation {i} best solutions ====\")\n",
        "        #print(ranked_solutions[0])\n",
        "\n",
        "        cross_over *= population_size\n",
        "        cross_over = int(cross_over)\n",
        "        best_solutions = ranked_solutions[0:cross_over]\n",
        "\n",
        "        elements = []\n",
        "        for s in best_solutions:\n",
        "            elements.append([s[1][0], s[1][1]])\n",
        "\n",
        "        new_gen = []\n",
        "        for _ in range(1000):\n",
        "            e = random.choice(elements)\n",
        "            ee = random.choice(elements)\n",
        "            e1 = e[0] * random.uniform(1-mutation_rate, 1+mutation_rate)\n",
        "            e2 = ee[1] * random.uniform(1-mutation_rate, 1+mutation_rate)\n",
        "            e3 = e[1] * random.uniform(1-mutation_rate, 1+mutation_rate)\n",
        "            e4 = ee[0] * random.uniform(1-mutation_rate, 1+mutation_rate)\n",
        "            new_gen.append((e1,e2))\n",
        "            new_gen.append((e3,e4))\n",
        "        solutions = new_gen\n",
        "        \n",
        "        _, chromosomes = ranked_solutions[0]\n",
        "        x,y = chromosomes\n",
        "        height = equation(x, y)\n",
        "        heights.append(height)\n",
        "        if ranked_solutions[0][0] > 500:\n",
        "            break\n",
        "    \n",
        "    return heights"
      ],
      "execution_count": 14,
      "outputs": []
    },
    {
      "cell_type": "markdown",
      "metadata": {
        "id": "ffUT_zy7ag_h"
      },
      "source": [
        "Run to view plot of convergance "
      ]
    },
    {
      "cell_type": "code",
      "metadata": {
        "colab": {
          "base_uri": "https://localhost:8080/",
          "height": 330
        },
        "id": "2glRaGADUuRf",
        "outputId": "0336d67d-e78c-4614-c030-f72d898e8421"
      },
      "source": [
        "# One point crossover \n",
        "y_one = GA_OnePoint_plot(20, 0.9, 0.5)\n",
        "x_one = range(len(y_one))\n",
        "# Uniform crossover \n",
        "y_uniform = GA_Uniform_plot(20, 0.9, 0.5)\n",
        "x_uniform = range(len(y_uniform))\n",
        "# plotting\n",
        "plt.plot(x_one,y_one, marker = \"o\")\n",
        "plt.plot(x_uniform,y_uniform, marker = \"D\")\n",
        "# Adding coordinates \n",
        "for i, j in zip(x_one, y_one):\n",
        "   plt.text(i, j+1, '{}'.format(format(j,\".3f\")))\n",
        "\n",
        "for i, j in zip(x_uniform, y_uniform):\n",
        "   plt.text(i, j-1, '{}'.format(format(j,\".3f\")))\n",
        "# Adding labels \n",
        "plt.ylim(0, 15)\n",
        "plt.ylabel(\"Height\")\n",
        "plt.xlabel(\"Number of Generations\")\n",
        "plt.title(\"GA Convergance (One Point & Uniform Crossover)\")\n",
        "plt.show()\n"
      ],
      "execution_count": 15,
      "outputs": [
        {
          "output_type": "display_data",
          "data": {
            "image/png": "[encoded data removed]",
            "text/plain": [
              "<Figure size 432x288 with 1 Axes>"
            ]
          },
          "metadata": {
            "tags": [],
            "needs_background": "light"
          }
        }
      ]
    }
  ]
}